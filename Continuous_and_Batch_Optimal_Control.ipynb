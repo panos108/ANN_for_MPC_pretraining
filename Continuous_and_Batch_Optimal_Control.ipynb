{
  "nbformat": 4,
  "nbformat_minor": 0,
  "metadata": {
    "colab": {
      "name": "Continuous_and_Batch_Optimal_Control.ipynb",
      "provenance": [],
      "collapsed_sections": [],
      "authorship_tag": "ABX9TyPtXqGfIKWUt/1c3JrL84RP",
      "include_colab_link": true
    },
    "kernelspec": {
      "name": "python3",
      "display_name": "Python 3"
    }
  },
  "cells": [
    {
      "cell_type": "markdown",
      "metadata": {
        "id": "view-in-github",
        "colab_type": "text"
      },
      "source": [
        "<a href=\"https://colab.research.google.com/github/panos108/Model-Predictive-Control-for-Batch-and-Continuous/blob/master/Continuous_and_Batch_Optimal_Control.ipynb\" target=\"_parent\"><img src=\"https://colab.research.google.com/assets/colab-badge.svg\" alt=\"Open In Colab\"/></a>"
      ]
    },
    {
      "cell_type": "code",
      "metadata": {
        "id": "QIC99hjCABe8",
        "colab": {
          "base_uri": "https://localhost:8080/"
        },
        "outputId": "0cf5e43a-949f-4295-ab94-c5cf1939b5b1"
      },
      "source": [
        "%rm -rf Model-Predictive-Control-for-Batch-and-Continuous\n",
        "! git clone https://github.com/panos108/Model-Predictive-Control-for-Batch-and-Continuous.git\n",
        "! pip install casadi\n",
        "import casadi"
      ],
      "execution_count": null,
      "outputs": [
        {
          "output_type": "stream",
          "text": [
            "Cloning into 'Model-Predictive-Control-for-Batch-and-Continuous'...\n",
            "remote: Enumerating objects: 97, done.\u001b[K\n",
            "remote: Counting objects: 100% (97/97), done.\u001b[K\n",
            "remote: Compressing objects: 100% (65/65), done.\u001b[K\n",
            "remote: Total 97 (delta 56), reused 69 (delta 32), pack-reused 0\u001b[K\n",
            "Unpacking objects: 100% (97/97), done.\n",
            "Collecting casadi\n",
            "\u001b[?25l  Downloading https://files.pythonhosted.org/packages/d7/41/abb53746924c0669cc597d18d9fa77c51682f225222d130fec8217fbd256/casadi-3.5.5-cp37-none-manylinux1_x86_64.whl (34.2MB)\n",
            "\u001b[K     |████████████████████████████████| 34.3MB 111kB/s \n",
            "\u001b[?25hInstalling collected packages: casadi\n",
            "Successfully installed casadi-3.5.5\n"
          ],
          "name": "stdout"
        }
      ]
    },
    {
      "cell_type": "markdown",
      "metadata": {
        "id": "mtfHWXksDxgY"
      },
      "source": [
        "Define two Case studies"
      ]
    },
    {
      "cell_type": "code",
      "metadata": {
        "id": "aHeJY_L9DxLJ"
      },
      "source": [
        "# GP NMPC problem setup\n",
        "import numpy as np\n",
        "from casadi import *\n",
        "\n",
        "\n",
        "class Bio_reactor:\n",
        "\n",
        "    def specifications(self):\n",
        "        ''' Specify Problem parameters '''\n",
        "        tf              = 240.      # final time\n",
        "        nk              = 12        # sampling points\n",
        "        dt              = tf/nk\n",
        "        x0              = np.array([1.,150.,0.])\n",
        "        Lsolver         = 'mumps'  #'ma97'  # Linear solver\n",
        "        c_code          = False    # c_code\n",
        "        shrinking_horizon = True\n",
        "\n",
        "        return dt, x0, Lsolver, c_code, shrinking_horizon\n",
        "\n",
        "    def DAE_system(self):\n",
        "        # Define vectors with names of states\n",
        "        states     = ['x','n','q']\n",
        "        nd         = len(states)\n",
        "        xd         = SX.sym('xd',nd)\n",
        "        for i in range(nd):\n",
        "            globals()[states[i]] = xd[i]\n",
        "\n",
        "        # Define vectors with names of algebraic variables\n",
        "        algebraics = []\n",
        "        na         = len(algebraics)\n",
        "        xa         = SX.sym('xa',na)\n",
        "        for i in range(na):\n",
        "            globals()[algebraics[i]] = xa[i]\n",
        "\n",
        "        set_points = []\n",
        "        n_ref      = len(set_points)\n",
        "        x_ref      = SX.sym('x_ref',n_ref)\n",
        "        for i in range(n_ref):\n",
        "            globals()[set_points[i]] = x_ref[i]\n",
        "\n",
        "\n",
        "\n",
        "        # Define vectors with banes of input variables\n",
        "        inputs     = ['L','Fn']\n",
        "        nu         = len(inputs)\n",
        "        u          = SX.sym(\"u\",nu)\n",
        "        for i in range(nu):\n",
        "            globals()[inputs[i]] = u[i]\n",
        "\n",
        "        # Define model parameter names and values\n",
        "        modpar    = ['u_m', 'k_s', 'k_i', 'K_N', 'u_d', 'Y_nx', 'k_m', 'k_sq',\n",
        "        'k_iq', 'k_d', 'K_Np']\n",
        "        modparval = [0.0923*0.62, 178.85, 447.12, 393.10, 0.001, 504.49,\n",
        "        2.544*0.62*1e-4, 23.51, 800.0, 0.281, 16.89]\n",
        "\n",
        "        nmp       = len(modpar)\n",
        "        uncertainty = []#SX.sym('uncp', nmp)\n",
        "        for i in range(nmp):\n",
        "            globals()[modpar[i]] = SX(modparval[i])# + uncertainty[i])\n",
        "\n",
        "        # Additive measurement noise\n",
        "    #    Sigma_v  = [400.,1e5,1e-2]*diag(np.ones(nd))*1e-6\n",
        "\n",
        "        # Additive disturbance noise\n",
        "    #    Sigma_w  = [400.,1e5,1e-2]*diag(np.ones(nd))*1e-6\n",
        "\n",
        "        # Initial additive disturbance noise\n",
        "    #    Sigma_w0 = [1.,150.**2,0.]*diag(np.ones(nd))*1e-3\n",
        "        # Declare ODE equations (use notation as defined above)\n",
        "\n",
        "        dx   = u_m * L/(L+k_s+L**2./k_i) * x * n/(n+K_N) - u_d*x\n",
        "        dx   = u_m * L/(L+k_s+L**2./k_i) * x * n/(n+K_N) - u_d*x\n",
        "        dn   = - Y_nx*u_m* L/(L+k_s+L**2./k_i) * x * n/(n+K_N)+ Fn\n",
        "        dq   = (k_m * L/(L+k_sq+L**2./k_iq) * x - k_d * q/(n+K_Np))# * (sign(499.9999 - n)+1)/2 * (sign(x - 10.0001)+1)/2\n",
        "\n",
        "              # * (tanh(1000*(500. - n))+1)/2 * (tanh(1000*(x - 10.000))+1)/2# * (sign(499.9999 - n)+1)/2 * (sign(x - 10.0001)+1)/2\n",
        "\n",
        "        ODEeq =  [dx, dn, dq]\n",
        "\n",
        "        # Declare algebraic equations\n",
        "        Aeq = []\n",
        "\n",
        "        # Define objective to be minimized\n",
        "        t     = SX.sym('t')\n",
        "        Obj_M = Function('mayer', [xd, x_ref, u], [-q])  # Mayer term\n",
        "        Obj_L = Function('lagrange', [xd, x_ref, u], [0.])  # Lagrange term\n",
        "        Obj_D = Function('Discrete', [xd, x_ref, u], [0.])  # Lagrange term\n",
        "\n",
        "        R           = np.diagflat([3.125e-8, 3.125e-006])                         # Weighting of control penality\n",
        "\n",
        "        # Define control bounds\n",
        "        u_min = np.array([120., 0.])\n",
        "        u_max = np.array([400., 40.])\n",
        "        x_min = np.array([0.]*nd)\n",
        "        x_max = np.array([np.inf]*nd)\n",
        "        # Define constraint functions g(x) <= 0\n",
        "        gequation = vertcat(n - 800., q - 0.011 * x)\n",
        "        ng = SX.size(gequation)[0]\n",
        "        gfcn = Function('gfcn', [xd, xa, u], [gequation])\n",
        "\n",
        "        return xd, xa, u, uncertainty, ODEeq, Aeq, u_min, u_max, x_min, x_max, states,\\\n",
        "               algebraics, inputs, nd, na, nu, n_ref, nmp, modparval, ng, gfcn, Obj_M, Obj_L, Obj_D, R\n",
        "\n",
        "\n",
        "    def integrator_model(self):\n",
        "        \"\"\"\n",
        "        This function constructs the integrator to be suitable with casadi environment, for the equations of the model\n",
        "        and the objective function with variable time step.\n",
        "         inputs: NaN\n",
        "         outputs: F: Function([x, u, dt]--> [xf, obj])\n",
        "        \"\"\"\n",
        "\n",
        "        xd, xa, u, uncertainty, ODEeq, Aeq, u_min, u_max, x_min, x_max, states, \\\n",
        "        algebraics, inputs, nd, na, nu, n_ref, nmp, modparval, ng, gfcn, Obj_M, Obj_L, Obj_D, R = self.DAE_system()\n",
        "\n",
        "        dae = {'x': vertcat(xd), 'z': vertcat(xa), 'p': vertcat(u, uncertainty),\n",
        "               'ode': vertcat(*ODEeq), 'alg': vertcat(*Aeq)}\n",
        "        opts = {'tf': 240/12}  # interval length\n",
        "        F = integrator('F', 'idas', dae, opts)\n",
        "\n",
        "        return F\n",
        "\n",
        "\n",
        "\n",
        "\n",
        "class simple_CSTR:\n",
        "\n",
        "    def specifications(self):\n",
        "        ''' Specify Problem parameters '''\n",
        "        dt                = 0.01      # final time\n",
        "        x0                = np.array([0.])\n",
        "        Lsolver           = 'mumps'  #'ma97'  # Linear solver\n",
        "        c_code            = False    # c_code\n",
        "        shrinking_horizon = False\n",
        "        return dt, x0, Lsolver, c_code, shrinking_horizon\n",
        "\n",
        "    def DAE_system(self):\n",
        "        # Define vectors with names of states\n",
        "        states     = ['x']\n",
        "        nd         = len(states)\n",
        "        xd         = SX.sym('xd',nd)\n",
        "        for i in range(nd):\n",
        "            globals()[states[i]] = xd[i]\n",
        "\n",
        "        # Define vectors with names of algebraic variables\n",
        "        algebraics = []\n",
        "        na         = len(algebraics)\n",
        "        xa         = SX.sym('xa',na)\n",
        "        for i in range(na):\n",
        "            globals()[algebraics[i]] = xa[i]\n",
        "\n",
        "        set_points = ['x_ref']\n",
        "        n_ref      = len(set_points)\n",
        "        x_ref      = SX.sym('x_ref',n_ref)\n",
        "        for i in range(n_ref):\n",
        "            globals()[set_points[i]] = x_ref[i]\n",
        "\n",
        "        # Define vectors with banes of input variables\n",
        "        inputs     = ['u']\n",
        "        nu         = len(inputs)\n",
        "        u          = SX.sym(\"u\",nu)\n",
        "        for i in range(nu):\n",
        "            globals()[inputs[i]] = u[i]\n",
        "\n",
        "        # Define model parameter names and values\n",
        "        modpar    = ['u_scale', 'V', 'k', 'C0']\n",
        "        modparval = [3000., 5000., 2., 1.]\n",
        "\n",
        "        nmp       = len(modpar)\n",
        "        uncertainty = []#SX.sym('uncp', nmp)\n",
        "        for i in range(nmp):\n",
        "            globals()[modpar[i]] = SX(modparval[i])# + uncertainty[i])\n",
        "\n",
        "        dx   = u_scale * u / V * (C0 -x) - k * x **3\n",
        "\n",
        "        ODEeq =  [dx]\n",
        "\n",
        "        # Declare algebraic equations\n",
        "        Aeq = []\n",
        "\n",
        "        # Define objective to be minimized\n",
        "        t     = SX.sym('t')\n",
        "        Obj_M = Function('mayer', [xd, x_ref, u], [0.])  # Mayer term\n",
        "        Obj_L = Function('lagrange', [xd, x_ref, u], [(x-x_ref)**2])  # Lagrange term\n",
        "        Obj_D = Function('Discrete', [xd, x_ref, u], [0.])  # Lagrange term\n",
        "\n",
        "        R           = np.eye(nu)#np.diagflat([3.125e-8, 3.125e-006])                         # Weighting of control penality\n",
        "\n",
        "        # Define control bounds\n",
        "        u_min = np.array([0.])\n",
        "        u_max = np.array([1.])\n",
        "        x_min = np.array([0.]*nd)\n",
        "        x_max = np.array([np.inf]*nd)\n",
        "        # Define constraint functions g(x) <= 0\n",
        "        gequation = vertcat(x - 1.)\n",
        "        ng = SX.size(gequation)[0]\n",
        "        gfcn = Function('gfcn', [xd, x_ref, u], [gequation])\n",
        "\n",
        "        return xd, xa, u, uncertainty, ODEeq, Aeq, u_min, u_max, x_min, x_max, states,\\\n",
        "               algebraics, inputs, nd, na, nu,n_ref, nmp, modparval, ng, gfcn, Obj_M, Obj_L, Obj_D, R\n",
        "\n",
        "\n",
        "\n",
        "    def integrator_model(self):\n",
        "        \"\"\"\n",
        "        This function constructs the integrator to be suitable with casadi environment, for the equations of the model\n",
        "        and the objective function with variable time step.\n",
        "         inputs: NaN\n",
        "         outputs: F: Function([x, u, dt]--> [xf, obj])\n",
        "        \"\"\"\n",
        "        dt, x0, Lsolver, c_code, specifications = self.specifications()\n",
        "\n",
        "        xd, xa, u, uncertainty, ODEeq, Aeq, u_min, u_max, x_min, x_max, states, \\\n",
        "        algebraics, inputs, nd, na, nu, n_ref, nmp, modparval, ng, gfcn, Obj_M, Obj_L, Obj_D, R = self.DAE_system()\n",
        "\n",
        "        dae = {'x': vertcat(xd), 'z': vertcat(xa), 'p': vertcat(u, uncertainty),\n",
        "               'ode': vertcat(*ODEeq), 'alg': vertcat(*Aeq)}\n",
        "        opts = {'tf': dt}  # interval length\n",
        "        F = integrator('F', 'idas', dae, opts)\n",
        "\n",
        "        return F\n"
      ],
      "execution_count": null,
      "outputs": []
    },
    {
      "cell_type": "markdown",
      "metadata": {
        "id": "30Pg4MA7D_fU"
      },
      "source": [
        "Bioreactor with shrinking Horizon"
      ]
    },
    {
      "cell_type": "code",
      "metadata": {
        "id": "NzSwbLmtEDQv",
        "colab": {
          "base_uri": "https://localhost:8080/",
          "height": 317
        },
        "outputId": "27abeb55-7365-4b0a-da6d-db1a577f312c"
      },
      "source": [
        "from casadi import *\n",
        "import numpy as np\n",
        "from ANN_for_MPC_pretraining.utilities import MPC\n",
        "import matplotlib.pyplot as plt\n",
        "\n",
        "System = Bio_reactor\n",
        "N =12 # This is the total steps\n",
        "#Initialize system\n",
        "Sys = System()\n",
        "dt, x0, _, _, _ = Sys.specifications()\n",
        "F = Sys.integrator_model()\n",
        "# Construct MPC\n",
        "MPC_ = MPC(System, horizon=N, penalize_u=False) \n",
        "# Define system\n",
        "\n",
        "# Initialize Matrices\n",
        "his_x = np.zeros([1000, len(x0)])\n",
        "his_u= np.zeros([1000, 2])\n",
        "t    = 0.\n",
        "u_apply = np.array([0.])\n",
        "\n",
        "for i in range(12):\n",
        "    his_x[i] = x0\n",
        "    u_opt, x_opt, w_opt = MPC_.solve_MPC(x=x0, t=t)\n",
        "\n",
        "    u_apply  = np.array(u_opt)[:,0]\n",
        "    his_u[i] = u_apply\n",
        "    x1 = F(x0=x0, p=u_apply)\n",
        "    x0 = np.array(x1['xf']).reshape((-1,))\n",
        "    t += dt\n",
        "plt.plot(his_x[:N])"
      ],
      "execution_count": null,
      "outputs": [
        {
          "output_type": "execute_result",
          "data": {
            "text/plain": [
              "[<matplotlib.lines.Line2D at 0x7f39f41540f0>,\n",
              " <matplotlib.lines.Line2D at 0x7f39f4154128>,\n",
              " <matplotlib.lines.Line2D at 0x7f39f3e07828>]"
            ]
          },
          "metadata": {
            "tags": []
          },
          "execution_count": 31
        },
        {
          "output_type": "display_data",
          "data": {
            "image/png": "[encoded data removed]",
            "text/plain": [
              "<Figure size 432x288 with 1 Axes>"
            ]
          },
          "metadata": {
            "tags": [],
            "needs_background": "light"
          }
        }
      ]
    },
    {
      "cell_type": "markdown",
      "metadata": {
        "id": "YwIKkbY-GT13"
      },
      "source": [
        "Simple CSTR with penalizing $\\Delta u$"
      ]
    },
    {
      "cell_type": "code",
      "metadata": {
        "id": "PaYFAET-AUuI",
        "colab": {
          "base_uri": "https://localhost:8080/",
          "height": 283
        },
        "outputId": "0b85c9f1-fb52-4436-bb5c-c823d7a08a0e"
      },
      "source": [
        "from casadi import *\n",
        "import numpy as np\n",
        "from ANN_for_MPC_pretraining.utilities import MPC\n",
        "import matplotlib.pyplot as plt\n",
        "System = simple_CSTR\n",
        "N =10 # This is the horizon\n",
        "\n",
        "\n",
        "#Initialize system\n",
        "Sys = System()\n",
        "dt, x0, _, _, _ = Sys.specifications()\n",
        "F = Sys.integrator_model()\n",
        "his_x = np.zeros([1000, len(x0)])\n",
        "his_u= np.zeros([1000, 1])\n",
        "t    = 0.\n",
        "u_apply = np.array([0.])\n",
        "\n",
        "# Construct MPC\n",
        "MPC_ = MPC(System, horizon=N, penalize_u=False) \n",
        "\n",
        "Sys = System()\n",
        "dt, x0, _, _, _ = Sys.specifications()\n",
        "F = Sys.integrator_model()\n",
        "his_x = np.zeros([1000, len(x0)])\n",
        "his_u= np.zeros([1000, 1])\n",
        "t    = 0.\n",
        "u_apply = np.array([0.])\n",
        "\n",
        "for i in range(200):\n",
        "    his_x[i] = x0\n",
        "    u_opt, x_opt, w_opt = MPC_.solve_MPC(x=x0, ref = 0.4, t=t)\n",
        "\n",
        "    u_apply  = np.array(u_opt)[:,0]\n",
        "    his_u[i] = u_apply\n",
        "    x1 = F(x0=x0, p=u_apply)\n",
        "    x0 = np.array(x1['xf']).reshape((-1,))\n",
        "    t += dt\n",
        "plt.plot(his_x[:200])"
      ],
      "execution_count": null,
      "outputs": [
        {
          "output_type": "execute_result",
          "data": {
            "text/plain": [
              "[<matplotlib.lines.Line2D at 0x7f39f3a07908>]"
            ]
          },
          "metadata": {
            "tags": []
          },
          "execution_count": 32
        },
        {
          "output_type": "display_data",
          "data": {
            "image/png": "[encoded data removed]",
            "text/plain": [
              "<Figure size 432x288 with 1 Axes>"
            ]
          },
          "metadata": {
            "tags": [],
            "needs_background": "light"
          }
        }
      ]
    },
    {
      "cell_type": "markdown",
      "metadata": {
        "id": "jC-zF4kLGZHV"
      },
      "source": [
        "Simple CSTR with penalizing $\\Delta u$"
      ]
    },
    {
      "cell_type": "code",
      "metadata": {
        "id": "XncSwvwqGfcA",
        "colab": {
          "base_uri": "https://localhost:8080/",
          "height": 531
        },
        "outputId": "4c5c43ed-59e4-4f52-a360-3f2a6b5bb114"
      },
      "source": [
        "from casadi import *\n",
        "import numpy as np\n",
        "from ANN_for_MPC_pretraining.utilities import MPC\n",
        "import matplotlib.pyplot as plt\n",
        "System = simple_CSTR\n",
        "N =10 # This is the horizon\n",
        "\n",
        "#Initialize system\n",
        "Sys = System()\n",
        "dt, x0, _, _, _ = Sys.specifications()\n",
        "F = Sys.integrator_model()\n",
        "his_x = np.zeros([1000, len(x0)])\n",
        "his_u= np.zeros([1000, 1])\n",
        "t    = 0.\n",
        "u_apply = np.array([0.])\n",
        "# Construct MPC\n",
        "MPC_ = MPC(System, horizon=N, penalize_u=True) \n",
        "\n",
        "\n",
        "\n",
        "for i in range(300):\n",
        "    his_x[i] = x0\n",
        "    u_opt, x_opt, w_opt = MPC_.solve_MPC(x=x0, u=u_apply, ref = 0.4, t=t)\n",
        "\n",
        "    u_apply  = np.array(u_opt)[:,0]\n",
        "    his_u[i] = u_apply\n",
        "    x1 = F(x0=x0, p=u_apply)\n",
        "    x0 = np.array(x1['xf']).reshape((-1,))\n",
        "    t += dt\n",
        "plt.plot(his_x[:300])\n",
        "plt.plot([0.4]*300)\n",
        "\n",
        "fig1, ax1 = plt.subplots()\n",
        "\n",
        "plt.plot(his_u[:300])"
      ],
      "execution_count": null,
      "outputs": [
        {
          "output_type": "execute_result",
          "data": {
            "text/plain": [
              "[<matplotlib.lines.Line2D at 0x7f39f39d7eb8>]"
            ]
          },
          "metadata": {
            "tags": []
          },
          "execution_count": 33
        },
        {
          "output_type": "display_data",
          "data": {
            "image/png": "[encoded data removed]",
            "text/plain": [
              "<Figure size 432x288 with 1 Axes>"
            ]
          },
          "metadata": {
            "tags": [],
            "needs_background": "light"
          }
        },
        {
          "output_type": "display_data",
          "data": {
            "image/png": "[encoded data removed]",
            "text/plain": [
              "<Figure size 432x288 with 1 Axes>"
            ]
          },
          "metadata": {
            "tags": [],
            "needs_background": "light"
          }
        }
      ]
    }
  ]
}